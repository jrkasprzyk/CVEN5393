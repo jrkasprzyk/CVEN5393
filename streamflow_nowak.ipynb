{
  "nbformat": 4,
  "nbformat_minor": 0,
  "metadata": {
    "colab": {
      "provenance": [],
      "authorship_tag": "ABX9TyPLmADeC+EpsySTJbGgJ3pb"
    },
    "kernelspec": {
      "name": "python3",
      "display_name": "Python 3"
    },
    "language_info": {
      "name": "python"
    }
  },
  "cells": [
    {
      "cell_type": "markdown",
      "source": [
        "[![Open In Colab](https://colab.research.google.com/assets/colab-badge.svg)](https://colab.research.google.com/github/jrkasprzyk/CVEN5393/blob/main/streamflow_nowak.ipynb)\n",
        "\n",
        "*This notebook is part of course notes for CVEN 5393: Water Resource Systems and Management, by Prof. Joseph Kasprzyk at CU Boulder.*\n",
        "\n",
        "This notebook implements the method published below:\n",
        "\n",
        "Nowak, K., J. Prairie, B. Rajagopalan, and U. Lall (2010), A nonparametric stochastic approach for multisite\n",
        "disaggregation of annual to daily streamflow, Water Resour. Res., 46, W08529. [DOI](https://doi.org/10.1029/2009WR008530)."
      ],
      "metadata": {
        "id": "CAa2012QLeSM"
      }
    },
    {
      "cell_type": "code",
      "execution_count": 1,
      "metadata": {
        "id": "RzGJPh9XLPE4"
      },
      "outputs": [],
      "source": [
        "import pandas as pd #for dataframes and data processing\n",
        "import numpy as np #for numerical computation\n",
        "import matplotlib.pyplot as plt #for plotting\n",
        "import sys #system functions\n",
        "from scipy import interpolate #bring in only the interpolate function\n",
        "import plotly.express as px #plotly express for fast interactive plotting\n",
        "from plotly.subplots import make_subplots\n",
        "import plotly.graph_objects as go"
      ]
    },
    {
      "cell_type": "code",
      "source": [
        "def sim_single_year(rng, Z, p, years, sim_Z, print_results=False):\n",
        "\n",
        "  #inputs:\n",
        "  #rng - random number generator instance\n",
        "  #Z - input sequence of aggregated flows\n",
        "  #p - input 2d array of proportion vectors (disagg timesteps in columns)\n",
        "  #years - input sequence of years\n",
        "  #sim_Z - simulated aggregated flow (scalar)\n",
        "  #print_results - (optional) True for console output, False if not. Default True\n",
        "\n",
        "  #return: sequence of simulated, disaggregated flow for one year\n",
        "\n",
        "  # Calculate the distance between the yearly flows and the\n",
        "  # simulated value\n",
        "  dist = np.absolute(Z - sim_Z)\n",
        "\n",
        "  # inds will be the indices of the original sequence in ascending order\n",
        "  inds = dist.argsort()\n",
        "\n",
        "  # these are the yearly flows, sorted by their distance from the simulated flow\n",
        "  sorted_Z = Z[inds]\n",
        "\n",
        "  # the number of neighbors is a function of the\n",
        "  # number of datapoints in the yearly sequence\n",
        "  K = int(np.floor(np.sqrt(len(Z))))\n",
        "\n",
        "  # the weight function gives the most weight\n",
        "  # to the first neighbor (eq 1 in the paper)\n",
        "  W = np.zeros(K)\n",
        "  for i in range(K):\n",
        "    W[i] = (1./(i+1.))/sum(1./k for k in range(1, K+1))\n",
        "\n",
        "  # here, we only keep the K nearest neighbors based on distance\n",
        "  neighbors = sorted_Z[0:K]\n",
        "  neighbors_inds = inds[0:K]\n",
        "\n",
        "  # the index of the closest year...\n",
        "  chosen_index = rng.choice(neighbors_inds, size=1, p=W)\n",
        "\n",
        "  # ...is used to find a proportion vector\n",
        "  sim_p = p[chosen_index, :]\n",
        "\n",
        "  # the simulated flow sequence is the proportion multiplied by simulated yearly flow\n",
        "  sim_flow = sim_p * sim_Z\n",
        "\n",
        "  if print_results is True:\n",
        "    print(f\"Sim annual {sim_Z: 0.1f}, \\\n",
        "    using analog year {str(*years[chosen_index])}: \\\n",
        "    {np.array2string(sim_flow, precision=1, floatmode='fixed')}\")\n",
        "\n",
        "  return sim_flow"
      ],
      "metadata": {
        "id": "E4eQZmZrV1-a"
      },
      "execution_count": 32,
      "outputs": []
    },
    {
      "cell_type": "code",
      "source": [
        "def sim_multi_trace(rng, Z, p, years, sim_Z, repl=1, print_results=False):\n",
        "  #inputs:\n",
        "  #rng - random number generator instance\n",
        "  #Z - input sequence of aggregated flows\n",
        "  #p - input 2d array of proportion vectors\n",
        "  #years - input sequence of years\n",
        "  #mat_Z - simulated aggregated flow (sequences in rows, years in columns)\n",
        "  #repl - (optional) number of replicates per simulated annual sequence. Default 1\n",
        "  #print_results - (optional) True for console output, False if not. Default True\n",
        "\n",
        "  #return: sequence of simulated, disaggregated flow for one year\n",
        "\n",
        "  # prepare results matrix:\n",
        "  # rows: seasons in rows (4 seasons, 3 years long = 12 rows); simulations in columns\n",
        "  # TODO: make this a function of mat_Z\n",
        "  mat_sim = np.zeros((12, 10))\n",
        "\n",
        "  # TODO: process the length of these for loops organically\n",
        "  j = 0 #column for the final output\n",
        "  for r in range(repl): # repeat for 2 replicates\n",
        "    for s in range(5): # multiple sequences\n",
        "      i = 0 # row for the final output\n",
        "      for y in range(3): # multiple years\n",
        "        sim_seas = sim_single_year(rng, Z, p, years, sim_Z[s, y])\n",
        "        mat_sim[i:i+4, j] = sim_seas\n",
        "        i = i+4\n",
        "      j = j+1\n"
      ],
      "metadata": {
        "id": "-EoFUoxV2ijO"
      },
      "execution_count": null,
      "outputs": []
    },
    {
      "cell_type": "markdown",
      "source": [
        "# Example 1: Simulating seasonal flow, 1967-1975 (from the paper)"
      ],
      "metadata": {
        "id": "xdCThlZgKxsy"
      }
    },
    {
      "cell_type": "code",
      "source": [
        "ex1_rng = np.random.default_rng(seed=42)\n",
        "\n",
        "ex1_obs_years = np.array([1967, 1968, 1969, 1970, 1971, 1972, 1973, 1974, 1975])\n",
        "ex1_obs_ann_flow = np.array([35., 40., 33., 52., 43., 56., 38., 49., 32.])\n",
        "ex1_obs_p = np.array(\n",
        "    [[.1, .3, .4, .2],\n",
        "     [.15, .25, .35, .25],\n",
        "     [.1, .2, .5, .2],\n",
        "     [.5, .15, .65, .15],\n",
        "     [.2, .2, .4, .2],\n",
        "     [.1, .2, .4, .3],\n",
        "     [.15, .2, .4, .25],\n",
        "     [.05, .1, .8, .05],\n",
        "     [.2, .2, .5, .1]\n",
        "     ]\n",
        "    )"
      ],
      "metadata": {
        "id": "1LCyLDUufOoJ"
      },
      "execution_count": 33,
      "outputs": []
    },
    {
      "cell_type": "markdown",
      "source": [
        "Below, we perform the simulation 10 different times. The algorithm has one component of randomness: a random number is used to generate which analog year is chosen. Therefore, repeating the simulation multiple times will create new timeseries, since different analog years have different proportion vectors."
      ],
      "metadata": {
        "id": "5dPWU6oPK04k"
      }
    },
    {
      "cell_type": "code",
      "source": [
        "ex1_sim_ann_flow = 70.\n",
        "\n",
        "# 10 different simulations for the same annual flow\n",
        "for i in range(10):\n",
        "  ex1_sim_seas_flow = sim_single_year(ex1_rng, ex1_obs_ann_flow, ex1_obs_p, ex1_obs_years, ex1_sim_ann_flow)"
      ],
      "metadata": {
        "colab": {
          "base_uri": "https://localhost:8080/"
        },
        "id": "gkOxKH0FgH2p",
        "outputId": "bb90286b-a546-45ec-b259-7fc7107cb3fa"
      },
      "execution_count": 34,
      "outputs": [
        {
          "output_type": "stream",
          "name": "stdout",
          "text": [
            "Sim annual  70.0, using analog year 1970: [[35.0 10.5 45.5 10.5]]\n",
            "Sim annual  70.0, using analog year 1972: [[ 7.0 14.0 28.0 21.0]]\n",
            "Sim annual  70.0, using analog year 1974: [[ 3.5  7.0 56.0  3.5]]\n",
            "Sim annual  70.0, using analog year 1970: [[35.0 10.5 45.5 10.5]]\n",
            "Sim annual  70.0, using analog year 1972: [[ 7.0 14.0 28.0 21.0]]\n",
            "Sim annual  70.0, using analog year 1974: [[ 3.5  7.0 56.0  3.5]]\n",
            "Sim annual  70.0, using analog year 1970: [[35.0 10.5 45.5 10.5]]\n",
            "Sim annual  70.0, using analog year 1970: [[35.0 10.5 45.5 10.5]]\n",
            "Sim annual  70.0, using analog year 1972: [[ 7.0 14.0 28.0 21.0]]\n",
            "Sim annual  70.0, using analog year 1972: [[ 7.0 14.0 28.0 21.0]]\n"
          ]
        }
      ]
    },
    {
      "cell_type": "markdown",
      "source": [
        "# Example 2: Seasonal flow with reservoir simulation\n",
        "\n",
        "*This is a new example for Spring 2024, which maintains four timesteps per year but uses more data with more questions to answer. This is also an illustrative dataset only.*\n",
        "\n",
        "A particular river has observed seasonal streamflow (af) from 2000-2007. A climate model has been used to create 5 different synthetic sequences of new annual flows, each of which is 3 years long.\n",
        "\n",
        "Use the Nowak et al disaggregation method to create synthetic sequences of 3 years' worth of seasonal data. For each annual sequence provided, repeat the process 2 times to create random disaggregated seuqences from each annual sequence.\n",
        "\n",
        "When you're done, you should have 10 new seasonal sequences!\n"
      ],
      "metadata": {
        "id": "IqpdzysBOME4"
      }
    },
    {
      "cell_type": "code",
      "source": [
        "ex2_obs_years = np.array([2000, 2001, 2002, 2003, 2004, 2005, 2006, 2007])\n",
        "\n",
        "ex2_obs_seas_flow = np.array([50., 52., 80., 105., 60., 70., 90., 110.,\n",
        "                              60., 24., 40., 80., 40., 30., 80., 92.,\n",
        "                              81., 55., 81., 92., 50., 60., 100., 150.,\n",
        "                              20., 10., 80., 100., 50., 20., 30., 120.])\n",
        "\n",
        "# shape: sequences in rows; years in columns\n",
        "ex2_sim_ann_flow = np.array([[275., 300., 305],\n",
        "                             [200., 220., 400.],\n",
        "                             [300., 310., 289.],\n",
        "                             [260., 311., 400.],\n",
        "                             [200., 250., 260.]])"
      ],
      "metadata": {
        "id": "3lNUZmC3UCH-"
      },
      "execution_count": 53,
      "outputs": []
    },
    {
      "cell_type": "markdown",
      "source": [
        "In this example, all we have started with is the seasonal flow, in other words this is the observed disaggregated flow. We must calculate the proportion vector as well as find the observed annual flow.\n",
        "\n",
        "We will also be performing the calculations over multiple timesteps, using three different sequences of simulated annual data."
      ],
      "metadata": {
        "id": "DoOLRViiWY3s"
      }
    },
    {
      "cell_type": "code",
      "source": [
        "# create a matrix with 8 rows (years) and 4 columns (seasons)\n",
        "ex2_obs_seas_flow_mat = ex2_obs_seas_flow.reshape((8, 4))\n",
        "\n",
        "# find the sum of each row, which is the observed annual flow\n",
        "ex2_obs_ann_flow = np.sum(ex2_obs_seas_flow_mat, axis=1)\n",
        "\n",
        "# prepare the variable for the proportion vector\n",
        "ex2_obs_p = np.zeros((8, 4))\n",
        "\n",
        "# calculate the proportion vector\n",
        "for i in range(4):\n",
        "  ex2_obs_p[:, i] = ex2_obs_seas_flow_mat[:, i]/ex2_obs_ann_flow"
      ],
      "metadata": {
        "id": "FBfzLeY_Wvrw"
      },
      "execution_count": 54,
      "outputs": []
    },
    {
      "cell_type": "markdown",
      "source": [
        "Now the observed data is the same format as Example 1. When running the calculations for this problem, though, we will need to store them in a larger format since we are doing one calculation for every simulated annual flow, and repeating it with multiple replicates."
      ],
      "metadata": {
        "id": "dD6i21pzbwll"
      }
    },
    {
      "cell_type": "code",
      "source": [
        "# reset the random number generator to produce consistent results for this example\n",
        "ex2_rng = np.random.default_rng(seed=42)\n",
        "\n",
        "# TODO: write function call here once resolving issues with multi trace sim function above\n",
        ""
      ],
      "metadata": {
        "id": "Ds68p9q5VHiY"
      },
      "execution_count": null,
      "outputs": []
    },
    {
      "cell_type": "code",
      "source": [
        "#my_df = pd.DataFrame(ex2_sim_seas_flow)"
      ],
      "metadata": {
        "id": "XW0mokzag2DV"
      },
      "execution_count": 69,
      "outputs": []
    }
  ]
}