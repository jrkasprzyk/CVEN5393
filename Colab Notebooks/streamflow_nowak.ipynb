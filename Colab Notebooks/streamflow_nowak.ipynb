{
  "nbformat": 4,
  "nbformat_minor": 0,
  "metadata": {
    "colab": {
      "provenance": [],
      "authorship_tag": "ABX9TyNpmIc0aTme2nYQ4zObTcpA"
    },
    "kernelspec": {
      "name": "python3",
      "display_name": "Python 3"
    },
    "language_info": {
      "name": "python"
    }
  },
  "cells": [
    {
      "cell_type": "markdown",
      "source": [
        "[![Open In Colab](https://colab.research.google.com/assets/colab-badge.svg)](https://colab.research.google.com/github/jrkasprzyk/CVEN5393/blob/main/Colab%20Notebooks/streamflow_nowak.ipynb)\n",
        "\n",
        "*This notebook is part of course notes for CVEN 5393: Water Resource Systems and Management, by Prof. Joseph Kasprzyk at CU Boulder.*\n",
        "\n",
        "This notebook implements the method published below:\n",
        "\n",
        "Nowak, K., J. Prairie, B. Rajagopalan, and U. Lall (2010), A nonparametric stochastic approach for multisite\n",
        "disaggregation of annual to daily streamflow, Water Resour. Res., 46, W08529. [DOI](https://doi.org/10.1029/2009WR008530)."
      ],
      "metadata": {
        "id": "CAa2012QLeSM"
      }
    },
    {
      "cell_type": "code",
      "execution_count": null,
      "metadata": {
        "id": "RzGJPh9XLPE4"
      },
      "outputs": [],
      "source": [
        "import pandas as pd #for dataframes and data processing\n",
        "import numpy as np #for numerical computation\n",
        "import matplotlib.pyplot as plt #for plotting\n",
        "import sys #system functions\n",
        "from scipy import interpolate #bring in only the interpolate function\n",
        "import plotly.express as px #plotly express for fast interactive plotting\n",
        "from plotly.subplots import make_subplots\n",
        "import plotly.graph_objects as go"
      ]
    },
    {
      "cell_type": "code",
      "source": [
        "def sim_single_year(rng, Z, p, years, sim_Z, print_results=False):\n",
        "\n",
        "  #inputs:\n",
        "  #rng - random number generator instance\n",
        "  #Z - input sequence of aggregated flows\n",
        "  #p - input 2d array of proportion vectors (disagg timesteps in columns)\n",
        "  #years - input sequence of years\n",
        "  #sim_Z - simulated aggregated flow (scalar)\n",
        "  #print_results - (optional) True for console output, False if not. Default True\n",
        "\n",
        "  #return: sequence of simulated, disaggregated flow for one year\n",
        "\n",
        "  # Calculate the distance between the yearly flows and the\n",
        "  # simulated value\n",
        "  dist = np.absolute(Z - sim_Z)\n",
        "\n",
        "  # inds will be the indices of the original sequence in ascending order\n",
        "  inds = dist.argsort()\n",
        "\n",
        "  # these are the yearly flows, sorted by their distance from the simulated flow\n",
        "  sorted_Z = Z[inds]\n",
        "\n",
        "  # the number of neighbors is a function of the\n",
        "  # number of datapoints in the yearly sequence\n",
        "  K = int(np.floor(np.sqrt(len(Z))))\n",
        "\n",
        "  # the weight function gives the most weight\n",
        "  # to the first neighbor (eq 1 in the paper)\n",
        "  W = np.zeros(K)\n",
        "  for i in range(K):\n",
        "    W[i] = (1./(i+1.))/sum(1./k for k in range(1, K+1))\n",
        "\n",
        "  # here, we only keep the K nearest neighbors based on distance\n",
        "  neighbors = sorted_Z[0:K]\n",
        "  neighbors_inds = inds[0:K]\n",
        "\n",
        "  # the index of the closest year...\n",
        "  chosen_index = rng.choice(neighbors_inds, size=1, p=W)\n",
        "\n",
        "  # ...is used to find a proportion vector\n",
        "  sim_p = p[chosen_index, :]\n",
        "\n",
        "  # the simulated flow sequence is the proportion multiplied by simulated yearly flow\n",
        "  sim_flow = sim_p * sim_Z\n",
        "\n",
        "  if print_results is True:\n",
        "    print(f\"Sim annual {sim_Z: 0.1f}, \\\n",
        "    using analog year {str(*years[chosen_index])}: \\\n",
        "    {np.array2string(sim_flow, precision=1, floatmode='fixed')}\")\n",
        "\n",
        "  return sim_flow"
      ],
      "metadata": {
        "id": "E4eQZmZrV1-a"
      },
      "execution_count": null,
      "outputs": []
    },
    {
      "cell_type": "code",
      "source": [
        "def sim_multi_trace(rng, Z, p, years, sim_Z, repl=1, print_results=False):\n",
        "  #inputs:\n",
        "  #rng - random number generator instance\n",
        "  #Z - input sequence of aggregated flows\n",
        "  #p - input 2d array of proportion vectors (years in rows, periods in columns)\n",
        "  #years - input sequence of years\n",
        "  #mat_Z - simulated aggregated flow (sequences in rows, years in columns)\n",
        "  #repl - (optional) number of replicates per simulated annual sequence. Default 1\n",
        "  #print_results - (optional) True for console output, False if not. Default True\n",
        "\n",
        "  #return: sequence of simulated, disaggregated flow for one year\n",
        "\n",
        "  # what is the shape of the proportion matrix, p?\n",
        "  num_input_years, num_periods = p.shape\n",
        "\n",
        "  # what is the shape of the simulated annual data?\n",
        "  num_seq, num_sim_years = sim_Z.shape\n",
        "\n",
        "  # the output matrix will have the following shape:\n",
        "  # rows: number of disaggregated periods * number of simulated years\n",
        "  # columns: number of annual sequences * number of replicates\n",
        "  #\n",
        "  # example: seasonal data (4x per year), for sequences of 3 years: 12 rows\n",
        "  # 5 annual sequences, each repeated twice: 10 columns\n",
        "  mat_sim = np.zeros((num_periods*num_sim_years, num_seq*repl))\n",
        "\n",
        "  j = 0 #column for the final output\n",
        "  for r in range(repl): # repeat for 2 replicates\n",
        "    for s in range(num_seq): # multiple sequences\n",
        "      i = 0 # row for the final output\n",
        "      for y in range(num_sim_years): # multiple years\n",
        "        sim_seas = sim_single_year(rng, Z, p, years, sim_Z[s, y])\n",
        "        mat_sim[i:i+num_periods, j] = sim_seas\n",
        "        i = i+num_periods\n",
        "      j = j+1\n",
        "\n",
        "  return mat_sim"
      ],
      "metadata": {
        "id": "-EoFUoxV2ijO"
      },
      "execution_count": null,
      "outputs": []
    },
    {
      "cell_type": "markdown",
      "source": [
        "# Example 1: Perform one disaggregation given a simulated Z value (from the paper)"
      ],
      "metadata": {
        "id": "xdCThlZgKxsy"
      }
    },
    {
      "cell_type": "code",
      "source": [
        "ex1_rng = np.random.default_rng(seed=42)\n",
        "\n",
        "ex1_obs_years = np.array([1967, 1968, 1969, 1970, 1971, 1972, 1973, 1974, 1975])\n",
        "ex1_obs_ann_flow = np.array([35., 40., 33., 52., 43., 56., 38., 49., 32.])\n",
        "ex1_obs_p = np.array(\n",
        "    [[.1, .3, .4, .2],\n",
        "     [.15, .25, .35, .25],\n",
        "     [.1, .2, .5, .2],\n",
        "     [.5, .15, .65, .15],\n",
        "     [.2, .2, .4, .2],\n",
        "     [.1, .2, .4, .3],\n",
        "     [.15, .2, .4, .25],\n",
        "     [.05, .1, .8, .05],\n",
        "     [.2, .2, .5, .1]\n",
        "     ]\n",
        "    )\n",
        "\n",
        "ex1_sim_ann_flow = 70."
      ],
      "metadata": {
        "id": "1LCyLDUufOoJ"
      },
      "execution_count": null,
      "outputs": []
    },
    {
      "cell_type": "markdown",
      "source": [
        "Below, we perform the simulation 10 different times. The algorithm has one component of randomness: a random number is used to generate which analog year is chosen. Therefore, repeating the simulation multiple times will create new timeseries, since different analog years have different proportion vectors."
      ],
      "metadata": {
        "id": "5dPWU6oPK04k"
      }
    },
    {
      "cell_type": "code",
      "source": [
        "# 10 different simulations for the same annual flow\n",
        "for i in range(10):\n",
        "  ex1_sim_seas_flow = sim_single_year(ex1_rng, ex1_obs_ann_flow, ex1_obs_p, ex1_obs_years, ex1_sim_ann_flow, print_results=True)"
      ],
      "metadata": {
        "colab": {
          "base_uri": "https://localhost:8080/"
        },
        "id": "gkOxKH0FgH2p",
        "outputId": "ab5047d1-16f8-4d00-e2eb-862d52ed541a"
      },
      "execution_count": null,
      "outputs": [
        {
          "output_type": "stream",
          "name": "stdout",
          "text": [
            "Sim annual  70.0,     using analog year 1970:     [[35.0 10.5 45.5 10.5]]\n",
            "Sim annual  70.0,     using analog year 1972:     [[ 7.0 14.0 28.0 21.0]]\n",
            "Sim annual  70.0,     using analog year 1974:     [[ 3.5  7.0 56.0  3.5]]\n",
            "Sim annual  70.0,     using analog year 1970:     [[35.0 10.5 45.5 10.5]]\n",
            "Sim annual  70.0,     using analog year 1972:     [[ 7.0 14.0 28.0 21.0]]\n",
            "Sim annual  70.0,     using analog year 1974:     [[ 3.5  7.0 56.0  3.5]]\n",
            "Sim annual  70.0,     using analog year 1970:     [[35.0 10.5 45.5 10.5]]\n",
            "Sim annual  70.0,     using analog year 1970:     [[35.0 10.5 45.5 10.5]]\n",
            "Sim annual  70.0,     using analog year 1972:     [[ 7.0 14.0 28.0 21.0]]\n",
            "Sim annual  70.0,     using analog year 1972:     [[ 7.0 14.0 28.0 21.0]]\n"
          ]
        }
      ]
    },
    {
      "cell_type": "markdown",
      "source": [
        "# Example 2: Creating multiple traces of seasonal flow\n",
        "\n",
        "*This is a new illustrative example for Spring 2024, written by Prof. Kasprzyk. It maintains four timesteps per year but uses more data with more questions to answer.*\n",
        "\n",
        "A particular river has observed seasonal streamflow (af) from 2000-2007. A climate model has been used to create 5 different synthetic sequences of new annual flows, each of which is 3 years long.\n",
        "\n",
        "Use the Nowak et al disaggregation method to create synthetic sequences of 3 years' worth of seasonal data. For each annual sequence provided, repeat the process 2 times to create random disaggregated seuqences from each annual sequence.\n",
        "\n",
        "When you're done, you should have 10 new seasonal sequences!\n"
      ],
      "metadata": {
        "id": "IqpdzysBOME4"
      }
    },
    {
      "cell_type": "code",
      "source": [
        "ex2_obs_years = np.array([2000, 2001, 2002, 2003, 2004, 2005, 2006, 2007])\n",
        "\n",
        "# shape: an array with seasonal flow starting in 2000 and ending in 2007\n",
        "ex2_obs_seas_flow = np.array([50., 52., 80., 105., 60., 70., 90., 110.,\n",
        "                              60., 24., 40., 80., 40., 30., 80., 92.,\n",
        "                              81., 55., 81., 92., 50., 60., 100., 150.,\n",
        "                              20., 10., 80., 100., 50., 20., 30., 120.])\n",
        "\n",
        "# shape: sequences in rows; years in columns\n",
        "ex2_sim_ann_flow = np.array([[275., 300., 305],\n",
        "                             [200., 220., 400.],\n",
        "                             [300., 310., 289.],\n",
        "                             [260., 311., 400.],\n",
        "                             [200., 250., 260.]])"
      ],
      "metadata": {
        "id": "3lNUZmC3UCH-"
      },
      "execution_count": null,
      "outputs": []
    },
    {
      "cell_type": "markdown",
      "source": [
        "In this example, all we have started with is the seasonal flow, in other words this is the observed disaggregated flow. We must calculate the proportion vector as well as find the observed annual flow.\n",
        "\n",
        "We will also be performing the calculations over multiple timesteps, using three different sequences of simulated annual data."
      ],
      "metadata": {
        "id": "DoOLRViiWY3s"
      }
    },
    {
      "cell_type": "code",
      "source": [
        "# create a matrix with 8 rows (years) and 4 columns (seasons)\n",
        "ex2_obs_seas_flow_mat = ex2_obs_seas_flow.reshape((8, 4))\n",
        "\n",
        "# find the sum of each row, which is the observed annual flow\n",
        "ex2_obs_ann_flow = np.sum(ex2_obs_seas_flow_mat, axis=1)\n",
        "\n",
        "# prepare the variable for the proportion vector\n",
        "ex2_obs_p = np.zeros((8, 4))\n",
        "\n",
        "# calculate the proportion vector\n",
        "for i in range(4):\n",
        "  ex2_obs_p[:, i] = ex2_obs_seas_flow_mat[:, i]/ex2_obs_ann_flow"
      ],
      "metadata": {
        "id": "FBfzLeY_Wvrw"
      },
      "execution_count": null,
      "outputs": []
    },
    {
      "cell_type": "markdown",
      "source": [
        "Now the observed data is the same format as Example 1. When running the calculations for this problem, though, we will need to store them in a larger format since we are doing one calculation for every simulated annual flow, and repeating it with multiple replicates."
      ],
      "metadata": {
        "id": "dD6i21pzbwll"
      }
    },
    {
      "cell_type": "code",
      "source": [
        "# reset the random number generator to produce consistent results for this example\n",
        "ex2_rng = np.random.default_rng(seed=42)\n",
        "\n",
        "ex2_sim_seas_flow = sim_multi_trace(ex2_rng, ex2_obs_ann_flow, ex2_obs_p, ex2_obs_years, ex2_sim_ann_flow, repl=2, print_results=False)"
      ],
      "metadata": {
        "id": "Ds68p9q5VHiY"
      },
      "execution_count": null,
      "outputs": []
    },
    {
      "cell_type": "markdown",
      "source": [
        "Converting the results to a data frame provides some easy ways to analyze."
      ],
      "metadata": {
        "id": "k0rKeD5PJcQn"
      }
    },
    {
      "cell_type": "code",
      "source": [
        "my_df = pd.DataFrame(ex2_sim_seas_flow)"
      ],
      "metadata": {
        "id": "XW0mokzag2DV"
      },
      "execution_count": null,
      "outputs": []
    },
    {
      "cell_type": "code",
      "source": [
        "my_df.plot()"
      ],
      "metadata": {
        "id": "J4VqJ9A0E2B8"
      },
      "execution_count": null,
      "outputs": []
    },
    {
      "cell_type": "markdown",
      "source": [
        "# Example 3: Monthly flow, using data imported from Excel\n",
        "\n",
        "The file `oak_creek_monthly_af.xlsx` can be uploaded to Colaboratory and processed using the pandas library.\n",
        "\n",
        "Given a sequence of monthly streamflow data and 5 synthetic sequences of 5 years of annual flow, use the Nowak disaggregation method to create 10 replicates each of each simulated annual sequence."
      ],
      "metadata": {
        "id": "Ne67_RQTNiVM"
      }
    },
    {
      "cell_type": "code",
      "source": [
        "oak_obs_monthly_df = pd.read_excel('oak_creek_monthly_af.xlsx',\n",
        "                       sheet_name='Monthly Data',\n",
        "                       index_col=0)\n",
        "\n",
        "oak_sim_ann_df = pd.read_excel('oak_creek_monthly_af.xlsx',\n",
        "                               sheet_name='Simulated Annual',\n",
        "                               index_col=0)\n",
        "\n",
        "# convert to np array with shape as below\n",
        "# shape: sequences in rows; years in columns\n",
        "oak_sim_ann_flow = np.array(oak_sim_ann_df)"
      ],
      "metadata": {
        "id": "oCiFg7NJOcV6"
      },
      "execution_count": null,
      "outputs": []
    },
    {
      "cell_type": "code",
      "source": [
        "oak_obs_years = oak_obs_monthly_df.Year.unique()\n",
        "\n",
        "oak_obs_monthly = oak_obs_monthly_df['Volume (af)'].to_numpy()\n",
        "\n",
        "# shape: years in rows, monthly values in columns\n",
        "oak_obs_monthly_mat = oak_obs_monthly.reshape((len(oak_obs_years), 12))\n",
        "\n",
        "oak_obs_ann_flow = np.sum(oak_obs_monthly_mat, axis=1)\n",
        "\n",
        "# shape: years in rows, monthly proportions in columns\n",
        "oak_obs_p = np.zeros((len(oak_obs_years), 12))\n",
        "\n",
        "# calculate the proportion vector\n",
        "for i in range(12):\n",
        "  oak_obs_p[:, i] = oak_obs_monthly_mat[:, i]/oak_obs_ann_flow"
      ],
      "metadata": {
        "id": "C5MSo7WcPjJX"
      },
      "execution_count": null,
      "outputs": []
    },
    {
      "cell_type": "code",
      "source": [
        "# reset the random number generator to produce consistent results for this example\n",
        "oak_rng = np.random.default_rng(seed=42)\n",
        "\n",
        "oak_sim_monthly = sim_multi_trace(oak_rng, oak_obs_ann_flow,\n",
        "                                  oak_obs_p, oak_obs_years,\n",
        "                                  oak_sim_ann_flow,\n",
        "                                  repl=10, print_results=False)\n",
        "\n",
        "oak_sim_monthly_df = pd.DataFrame(oak_sim_monthly)\n",
        "\n",
        "oak_sim_monthly_df.to_excel('oak_sim_monthly.xlsx')"
      ],
      "metadata": {
        "id": "xdVaIP7aRZbM"
      },
      "execution_count": null,
      "outputs": []
    },
    {
      "cell_type": "markdown",
      "source": [
        "Ideas for future updates:\n",
        "\n",
        "\n",
        "*   Add a spatial example -- refactor functions to refer more generically to aggregated value Z and disaggregated value x\n",
        "\n"
      ],
      "metadata": {
        "id": "uRvxSP0cJi_R"
      }
    }
  ]
}