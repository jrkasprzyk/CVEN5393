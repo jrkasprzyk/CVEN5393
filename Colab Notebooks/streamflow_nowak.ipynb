{
  "nbformat": 4,
  "nbformat_minor": 0,
  "metadata": {
    "colab": {
      "provenance": [],
      "authorship_tag": "ABX9TyPp+c1O4/jQNlqohiPMa31Y"
    },
    "kernelspec": {
      "name": "python3",
      "display_name": "Python 3"
    },
    "language_info": {
      "name": "python"
    }
  },
  "cells": [
    {
      "cell_type": "markdown",
      "source": [
        "[![Open In Colab](https://colab.research.google.com/assets/colab-badge.svg)](https://colab.research.google.com/github/jrkasprzyk/CVEN5393/blob/main/streamflow_nowak.ipynb)\n",
        "\n",
        "*This notebook is part of course notes for CVEN 5393: Water Resource Systems and Management, by Prof. Joseph Kasprzyk at CU Boulder.*\n",
        "\n",
        "This notebook implements the method published below:\n",
        "\n",
        "Nowak, K., J. Prairie, B. Rajagopalan, and U. Lall (2010), A nonparametric stochastic approach for multisite\n",
        "disaggregation of annual to daily streamflow, Water Resour. Res., 46, W08529. [DOI](https://doi.org/10.1029/2009WR008530)."
      ],
      "metadata": {
        "id": "CAa2012QLeSM"
      }
    },
    {
      "cell_type": "code",
      "execution_count": null,
      "metadata": {
        "id": "RzGJPh9XLPE4"
      },
      "outputs": [],
      "source": [
        "import pandas as pd #for dataframes and data processing\n",
        "import numpy as np #for numerical computation\n",
        "import matplotlib.pyplot as plt #for plotting\n",
        "import sys #system functions\n",
        "from scipy import interpolate #bring in only the interpolate function\n",
        "import plotly.express as px #plotly express for fast interactive plotting\n",
        "from plotly.subplots import make_subplots\n",
        "import plotly.graph_objects as go"
      ]
    },
    {
      "cell_type": "code",
      "source": [
        "def simulate_flow(rng, Z_input, p_input, years_input, sim_Z):\n",
        "\n",
        "  #inputs:\n",
        "  #rng - random number generator instance\n",
        "  #Z_input - sequence of aggregated flows\n",
        "  #p_input - 2d array of proportion vectors from historical record\n",
        "  #years_input - sequence of historical years\n",
        "  #sim_Z - simulated aggregated flow\n",
        "\n",
        "  #return: sequence of simulated, disaggregated flow\n",
        "\n",
        "  # Calculate the distance between the yearly flows and the\n",
        "  # simulated value\n",
        "  dist = np.absolute(Z_input - sim_Z)\n",
        "\n",
        "  # inds will be the indices of the original sequence in ascending order\n",
        "  inds = dist.argsort()\n",
        "\n",
        "  # these are the yearly flows, sorted by their distance from the simulated flow\n",
        "  sorted_Z = paper_Z[inds]\n",
        "\n",
        "  # the number of neighbors is a function of the\n",
        "  # number of datapoints in the yearly sequence\n",
        "  K = int(np.floor(np.sqrt(len(Z_input))))\n",
        "\n",
        "  # the weight function gives the most weight\n",
        "  # to the first neighbor (eq 1 in the paper) \n",
        "  W = np.zeros(K)\n",
        "  for i in range(K):\n",
        "    W[i] = (1./(i+1.))/sum(1./k for k in range(1, K+1))\n",
        "\n",
        "  # here, we only keep the K nearest neighbors based on distance\n",
        "  neighbors = sorted_Z[0:K]\n",
        "  neighbors_inds = inds[0:K]\n",
        "\n",
        "  # the index of the closest year...\n",
        "  chosen_index = rng.choice(neighbors_inds, size=1, p=W)\n",
        "\n",
        "  # ...is used to find a proportion vector\n",
        "  sim_p = p_input[chosen_index, :]\n",
        "\n",
        "  # the simulated flow sequence is the proportion multiplied by simulated yearly flow\n",
        "  sim_flow = sim_p * sim_Z\n",
        "\n",
        "  print(\"Sim annual %f, choose year %d, yields: %s\" % (sim_Z, years_input[chosen_index], sim_flow))\n",
        "\n",
        "  return sim_flow"
      ],
      "metadata": {
        "id": "E4eQZmZrV1-a"
      },
      "execution_count": null,
      "outputs": []
    },
    {
      "cell_type": "markdown",
      "source": [
        "Below, we reproduce the example from the paper!"
      ],
      "metadata": {
        "id": "xdCThlZgKxsy"
      }
    },
    {
      "cell_type": "code",
      "source": [
        "my_rng = np.random.default_rng(seed=42)\n",
        "\n",
        "paper_years = np.array([1967, 1968, 1969, 1970, 1971, 1972, 1973, 1974, 1975])\n",
        "paper_Z = np.array([35., 40., 33., 52., 43., 56., 38., 49., 32.])\n",
        "paper_p = np.array(\n",
        "    [[.1, .3, .4, .2], \n",
        "     [.15, .25, .35, .25], \n",
        "     [.1, .2, .5, .2],\n",
        "     [.5, .15, .65, .15],\n",
        "     [.2, .2, .4, .2],\n",
        "     [.1, .2, .4, .3],\n",
        "     [.15, .2, .4, .25],\n",
        "     [.05, .1, .8, .05],\n",
        "     [.2, .2, .5, .1]\n",
        "     ]\n",
        "      )\n",
        "\n"
      ],
      "metadata": {
        "id": "1LCyLDUufOoJ"
      },
      "execution_count": null,
      "outputs": []
    },
    {
      "cell_type": "markdown",
      "source": [
        "Repeating the simulation multiple times shows how different nearest neighbors are selected and thus yield different simulated disaggregated flows"
      ],
      "metadata": {
        "id": "5dPWU6oPK04k"
      }
    },
    {
      "cell_type": "code",
      "source": [
        "for i in range(10):\n",
        "  paper_flows = simulate_flow(my_rng, paper_Z, paper_p, paper_years, 70.0)\n"
      ],
      "metadata": {
        "colab": {
          "base_uri": "https://localhost:8080/"
        },
        "id": "gkOxKH0FgH2p",
        "outputId": "4f44c80e-9bcb-48e8-9b58-a28aa39db1ff"
      },
      "execution_count": null,
      "outputs": [
        {
          "output_type": "stream",
          "name": "stdout",
          "text": [
            "Sim annual 70.000000, choose year 1970, yields: [[35.  10.5 45.5 10.5]]\n",
            "Sim annual 70.000000, choose year 1972, yields: [[ 7. 14. 28. 21.]]\n",
            "Sim annual 70.000000, choose year 1974, yields: [[ 3.5  7.  56.   3.5]]\n",
            "Sim annual 70.000000, choose year 1974, yields: [[ 3.5  7.  56.   3.5]]\n",
            "Sim annual 70.000000, choose year 1970, yields: [[35.  10.5 45.5 10.5]]\n",
            "Sim annual 70.000000, choose year 1972, yields: [[ 7. 14. 28. 21.]]\n",
            "Sim annual 70.000000, choose year 1972, yields: [[ 7. 14. 28. 21.]]\n",
            "Sim annual 70.000000, choose year 1972, yields: [[ 7. 14. 28. 21.]]\n",
            "Sim annual 70.000000, choose year 1972, yields: [[ 7. 14. 28. 21.]]\n",
            "Sim annual 70.000000, choose year 1970, yields: [[35.  10.5 45.5 10.5]]\n"
          ]
        }
      ]
    }
  ]
}