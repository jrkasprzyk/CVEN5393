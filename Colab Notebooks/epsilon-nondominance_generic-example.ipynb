{
  "nbformat": 4,
  "nbformat_minor": 0,
  "metadata": {
    "colab": {
      "provenance": []
    },
    "kernelspec": {
      "name": "python3",
      "display_name": "Python 3"
    },
    "language_info": {
      "name": "python"
    }
  },
  "cells": [
    {
      "cell_type": "markdown",
      "source": [
        "[![Open In Colab](https://colab.research.google.com/assets/colab-badge.svg)](https://colab.research.google.com/github/jrkasprzyk/CVEN5393/blob/main/epsilon_nondominance_from_file.ipynb)\n",
        "\n",
        "*This notebook is part of course notes for CVEN 5393: Water Resource Systems and Management, by Prof. Joseph Kasprzyk at CU Boulder.*\n",
        "\n",
        "In this notebook, we will perform epsilon non-dominated sorting of solutions, using the Platypus Python library. Generic solution data is included."
      ],
      "metadata": {
        "id": "1FQHWkjjOW-C"
      }
    },
    {
      "cell_type": "markdown",
      "source": [
        "# Install platypus-opt and load packages"
      ],
      "metadata": {
        "id": "hXwliamAatRy"
      }
    },
    {
      "cell_type": "code",
      "execution_count": 1,
      "metadata": {
        "colab": {
          "base_uri": "https://localhost:8080/"
        },
        "id": "4M4csQ5xeC8-",
        "outputId": "078f3d12-a2d5-44eb-e36c-1afad7cfef07"
      },
      "outputs": [
        {
          "output_type": "stream",
          "name": "stdout",
          "text": [
            "Collecting platypus-opt\n",
            "  Downloading Platypus_Opt-1.4.1-py3-none-any.whl.metadata (44 kB)\n",
            "\u001b[2K     \u001b[90m━━━━━━━━━━━━━━━━━━━━━━━━━━━━━━━━━━━━━━━━\u001b[0m \u001b[32m44.2/44.2 kB\u001b[0m \u001b[31m1.6 MB/s\u001b[0m eta \u001b[36m0:00:00\u001b[0m\n",
            "\u001b[?25hDownloading Platypus_Opt-1.4.1-py3-none-any.whl (124 kB)\n",
            "\u001b[2K   \u001b[90m━━━━━━━━━━━━━━━━━━━━━━━━━━━━━━━━━━━━━━━━\u001b[0m \u001b[32m124.4/124.4 kB\u001b[0m \u001b[31m4.4 MB/s\u001b[0m eta \u001b[36m0:00:00\u001b[0m\n",
            "\u001b[?25hInstalling collected packages: platypus-opt\n",
            "Successfully installed platypus-opt-1.4.1\n"
          ]
        }
      ],
      "source": [
        "!pip install platypus-opt"
      ]
    },
    {
      "cell_type": "code",
      "source": [
        "from platypus import *\n",
        "import numpy as np\n",
        "import pandas as pd"
      ],
      "metadata": {
        "id": "-R6Jjx9zeqkz"
      },
      "execution_count": 2,
      "outputs": []
    },
    {
      "cell_type": "markdown",
      "source": [
        "Functions to perform the sorting"
      ],
      "metadata": {
        "id": "pO1EvaT2bCvF"
      }
    },
    {
      "cell_type": "code",
      "source": [
        "def df_to_pt(df, objective_directions, nobjs, nvars=0, nconstrs=0):\n",
        "  problem = Problem(nvars=nvars, nobjs=nobjs, nconstrs=nconstrs)\n",
        "  pt = []\n",
        "  for index, row in all_solutions_df.iterrows():\n",
        "    # create solution object\n",
        "    solution = Solution(problem)\n",
        "\n",
        "    # save an id for which row of the original\n",
        "    # dataframe this solution came from. really important\n",
        "    # for cross-referencing things later!\n",
        "    solution.id = index\n",
        "\n",
        "    # populate the objective values into platypus, correcting\n",
        "    # the maximized objectives by multiplying by -1\n",
        "    for j in range(num_objs):\n",
        "      if objective_directions[j] == 'minimize':\n",
        "        solution.objectives[j] = row[objective_names[j]]\n",
        "      elif objective_directions[j] == 'maximize':\n",
        "        solution.objectives[j] = -1.0*row[objective_names[j]]\n",
        "\n",
        "    # add the solution to the list\n",
        "    pt.append(solution)\n",
        "  return pt"
      ],
      "metadata": {
        "id": "ShXwIjghmx_X"
      },
      "execution_count": 24,
      "outputs": []
    },
    {
      "cell_type": "code",
      "source": [
        "def label_eps_nd(df, label_col, objective_directions, epsilons, nobjs, nvars, nconstrs=0):\n",
        "\n",
        "  # reset the label column\n",
        "  df[label_col] = False\n",
        "\n",
        "  # convert to platypus format\n",
        "  pt = df_to_pt(df, objective_directions, nobjs, nvars, nconstrs)\n",
        "\n",
        "  # save the epsilon non-dominated solutions to a new list of platypus solutions\n",
        "  eps_pt = EpsilonBoxArchive(epsilons)\n",
        "  for solution in pt:\n",
        "    eps_pt.add(solution)\n",
        "\n",
        "  # save which ids ended up being epsilon non-dominated\n",
        "  eps_ids = [sol.id for sol in eps_pt]\n",
        "\n",
        "  # add labels to the epsilon non-dominated solutions\n",
        "  for id in eps_ids:\n",
        "    df.at[id, label_col] = True\n",
        "\n",
        "  return df"
      ],
      "metadata": {
        "id": "UzrTmUvGoaP_"
      },
      "execution_count": 19,
      "outputs": []
    },
    {
      "cell_type": "markdown",
      "source": [
        "# Prepare list of all solutions"
      ],
      "metadata": {
        "id": "0VzSGyXmbUmI"
      }
    },
    {
      "cell_type": "markdown",
      "source": [
        "In this step, we need to prepare the solutions that will be analyzed in the sorting process.\n",
        "\n",
        "A solution to a multi-objective problem comprises the following types of data:\n",
        "\n",
        "\n",
        "*   Decision Variables (defining actions)\n",
        "*   Objectives (multiple measures of the solution's performance)\n",
        "*   *Constraint Violations (not included in this example)*\n",
        "*   *Extra Metrics (other measures of the solution's performance, not included in this example)*\n",
        "\n",
        "To place solution data in a dataframe, the decision variables, objectives (and other variables) are in columns, and each solution is in its own row. We will call the dataframe `all_solutions_df`. Later, when we do the sorting, we will add columns to store flags that say whether or not a solution is epsilon non-dominated.\n",
        "\n",
        "\n",
        "\n"
      ],
      "metadata": {
        "id": "kEymDGCG7sjT"
      }
    },
    {
      "cell_type": "code",
      "source": [
        "# Create dataframe from a dict\n",
        "# https://builtin.com/data-science/dictionary-to-dataframe\n",
        "\n",
        "decision_variable_names = [\n",
        "    'Conservation Amt',\n",
        "    'Old Res Added Capacity',\n",
        "    'New Res Added Capacity'\n",
        "    ]\n",
        "num_decs = len(decision_variable_names)\n",
        "\n",
        "objective_names = [\n",
        "    'Cost',\n",
        "    'Reservoir Capacity',\n",
        "    'Reliability',\n",
        "    'Worst-Case Shortfall',\n",
        "    'Average Length of Shortfall'\n",
        "]\n",
        "num_objs = len(objective_names)\n",
        "\n",
        "objective_directions = [\n",
        "    'minimize',\n",
        "    'maximize',\n",
        "    'maximize',\n",
        "    'minimize',\n",
        "    'minimize',\n",
        "    'minimize'\n",
        "]\n",
        "\n",
        "solutions = {\n",
        "    'A': [0.15, 0.3, 2.0, 110.1, 3.3, 0.95,  0.1,  2],\n",
        "    'B': [0.0,  0.3, 0.8, 85,    2.1, 0.9,   0.3,  3],\n",
        "    'C': [0.15, 0.0, 0.0, 0.1,   1.0, 0.6,   0.4,  6],\n",
        "    'D': [0.0,  0.0, 0.0, 0.0,   0.0, 1.0,   0.45, 6],\n",
        "    'E': [0.2,  0.0, 0.0, 0.4,   1.0, 0.65,  0.33, 6],\n",
        "    'F': [0.15, 1.0, 3.0, 200.0, 5.0, 0.951, 0.09, 2]\n",
        "}"
      ],
      "metadata": {
        "id": "DAqIalN6fndB"
      },
      "execution_count": 9,
      "outputs": []
    },
    {
      "cell_type": "markdown",
      "source": [
        "We will save the data in a dataframe. We will add a new column that will store the results of the sorting. In other words, when we do an epsilon non-domination sort, each solution will be labeled with `True` when it is epsilon non-dominated, and `False` if not."
      ],
      "metadata": {
        "id": "NfUNGRDPjtdm"
      }
    },
    {
      "cell_type": "code",
      "source": [
        "all_solutions_df = pd.DataFrame.from_dict(\n",
        "    solutions,\n",
        "    orient='index',\n",
        "    columns=decision_variable_names+objective_names)\n",
        "\n",
        "all_solutions_df[\"Eps Nd\"] = False"
      ],
      "metadata": {
        "id": "1ctDZKIlrDtl"
      },
      "execution_count": null,
      "outputs": []
    },
    {
      "cell_type": "markdown",
      "source": [
        "Next, we populate a list of solutions in the Platypus format"
      ],
      "metadata": {
        "id": "tpMSKnrBmoIl"
      }
    },
    {
      "cell_type": "code",
      "source": [
        "all_solutions_pt = df_to_pt(\n",
        "    df=all_solutions_df,\n",
        "    objective_directions=objective_directions,\n",
        "    nobjs=num_objs,\n",
        "    nvars=num_decs,\n",
        "    nconstrs=0)"
      ],
      "metadata": {
        "id": "-5WyDwsooBGg"
      },
      "execution_count": 25,
      "outputs": []
    },
    {
      "cell_type": "markdown",
      "source": [
        "# Perform Epsilon Non-dominated Sort"
      ],
      "metadata": {
        "id": "N4uK-VzDkk6W"
      }
    },
    {
      "cell_type": "code",
      "source": [
        "epsilons = [10,    #cost\n",
        "            0.1,   #capacity\n",
        "            0.05,  #reliability\n",
        "            0.01,  #worst-case shortfall\n",
        "            1,     #length of shortfall\n",
        "            ]"
      ],
      "metadata": {
        "id": "Lnz2J4ELlJLX"
      },
      "execution_count": 29,
      "outputs": []
    },
    {
      "cell_type": "markdown",
      "source": [
        "The next code snippet performs the sorting itself."
      ],
      "metadata": {
        "id": "0FdJY4NflNrq"
      }
    },
    {
      "cell_type": "markdown",
      "source": [
        "After the above is completed, you now have a list of Platypus objects for all solutions: `all_solutions_pt`, which we're not really using here; and `eps_solutions_pt`, a Platypus `EpsilonBoxArchive` which is really just a list of Platypus `Solution` that are guaranteed to be epsilon non-dominated.\n",
        "\n",
        "The last cell here pulls out the solution ids for the epsilon archive and populates labels in the original dataframe that indicate whether a solution is epsilon nondominated. It also creates a new dataframe that only contains the epsilon solutions, for completeness."
      ],
      "metadata": {
        "id": "U4B-wBG2-RuQ"
      }
    },
    {
      "cell_type": "markdown",
      "source": [
        "By converting all of our work into a label for the original dataset, it helps facilitate lots of different experiments on that dataset. In other words, you can see which of the ‘original’ solutions survived the test. This is especially helpful when you have multiple ‘tests’ you’re performing on your solutions. For example, imagine that you had labels that indicated that a given row of the big dataframe came from a given optimization experiment .. then you could do lots of interesting things like show which ones are epsilon non-dominated across all experiments, within one experiment, etc. You just repeat the same procedure just assigning different labels to the original set."
      ],
      "metadata": {
        "id": "GRyiaJZjDpQl"
      }
    },
    {
      "cell_type": "code",
      "source": [],
      "metadata": {
        "id": "WI1HgP-7r9Gi"
      },
      "execution_count": null,
      "outputs": []
    }
  ]
}