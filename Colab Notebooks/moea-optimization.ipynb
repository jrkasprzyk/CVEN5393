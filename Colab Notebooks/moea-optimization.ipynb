{
  "nbformat": 4,
  "nbformat_minor": 0,
  "metadata": {
    "colab": {
      "provenance": [],
      "authorship_tag": "ABX9TyNgPb+P5XhRvgjwr+a4Ntp6"
    },
    "kernelspec": {
      "name": "python3",
      "display_name": "Python 3"
    },
    "language_info": {
      "name": "python"
    }
  },
  "cells": [
    {
      "cell_type": "markdown",
      "source": [
        "[![Open In Colab](https://colab.research.google.com/assets/colab-badge.svg)](https://colab.research.google.com/github/jrkasprzyk/CVEN5393/blob/main/Colab%20Notebooks/moea-optimization.ipynb)\n",
        "\n",
        "*This notebook is part of course notes for CVEN 5393: Water Resource Systems and Management, by Prof. Joseph Kasprzyk at CU Boulder.*\n",
        "\n",
        "This notebook implements basic examples of Multiobjective Evolutionary Algorithm (MOEA) optimization using the Platypus library.\n",
        "\n",
        "The first example is the **Cantilever Design Problem** as presented in Deb (2001). For another implementation of this example with great explanation, please see the post from Prof. David Gold on the [the Water Programming blog](https://waterprogramming.wordpress.com/2023/07/21/multiobjective-design-of-a-cantilever-beam-an-interactive-pedagogical-example/).\n"
      ],
      "metadata": {
        "id": "M5KACZrrJlD1"
      }
    },
    {
      "cell_type": "markdown",
      "source": [
        "# Python Setup\n",
        "\n",
        "First, install Platypus in the local environment and import necessary libraries."
      ],
      "metadata": {
        "id": "rNWE4AOMCURi"
      }
    },
    {
      "cell_type": "code",
      "source": [
        "!pip install platypus-opt"
      ],
      "metadata": {
        "colab": {
          "base_uri": "https://localhost:8080/"
        },
        "id": "FCsFW_HmTjTh",
        "outputId": "6878ac41-9bc3-4dd0-8265-9e5a2975303d"
      },
      "execution_count": null,
      "outputs": [
        {
          "output_type": "stream",
          "name": "stdout",
          "text": [
            "Collecting platypus-opt\n",
            "  Downloading Platypus_Opt-1.4.1-py3-none-any.whl.metadata (44 kB)\n",
            "\u001b[?25l     \u001b[90m━━━━━━━━━━━━━━━━━━━━━━━━━━━━━━━━━━━━━━━━\u001b[0m \u001b[32m0.0/44.2 kB\u001b[0m \u001b[31m?\u001b[0m eta \u001b[36m-:--:--\u001b[0m\r\u001b[2K     \u001b[90m━━━━━━━━━━━━━━━━━━━━━━━━━━━━━━━━━━━━━━━━\u001b[0m \u001b[32m44.2/44.2 kB\u001b[0m \u001b[31m2.3 MB/s\u001b[0m eta \u001b[36m0:00:00\u001b[0m\n",
            "\u001b[?25hDownloading Platypus_Opt-1.4.1-py3-none-any.whl (124 kB)\n",
            "\u001b[?25l   \u001b[90m━━━━━━━━━━━━━━━━━━━━━━━━━━━━━━━━━━━━━━━━\u001b[0m \u001b[32m0.0/124.4 kB\u001b[0m \u001b[31m?\u001b[0m eta \u001b[36m-:--:--\u001b[0m\r\u001b[2K   \u001b[90m━━━━━━━━━━━━━━━━━━━━━━━━━━━━━━━━━━━━━━━━\u001b[0m \u001b[32m124.4/124.4 kB\u001b[0m \u001b[31m5.1 MB/s\u001b[0m eta \u001b[36m0:00:00\u001b[0m\n",
            "\u001b[?25hInstalling collected packages: platypus-opt\n",
            "Successfully installed platypus-opt-1.4.1\n"
          ]
        }
      ]
    },
    {
      "cell_type": "code",
      "source": [
        "import math\n",
        "import numpy as np\n",
        "from matplotlib import pyplot as plt\n",
        "from platypus import Problem, Real, NSGAII, nondominated"
      ],
      "metadata": {
        "id": "mKbnT2raTqqF"
      },
      "execution_count": null,
      "outputs": []
    },
    {
      "cell_type": "markdown",
      "source": [
        "# Coding the Cantilever Design Problem\n",
        "\n",
        "The problem can be stated in words:\n",
        "\n",
        "*Choose values of the diameter and length of a circular cantilevered beam that can carry a particular load. Minimize the mass of the beam and its deflection under the given load, subject to requirements that the material is strong enough to hold the load and deflects less than or equal than a threshold deflection limit.*\n",
        "\n",
        "We often start these exercises by showing equations in the form of a mathematical optimization, but that doesn't help explain the items we need to solve a problem like this.\n",
        "\n",
        "We could instead the problem into multiple parts, discussed in the sections below.\n",
        "\n",
        "## Calculate the performance of one beam design\n",
        "\n",
        "Assume that you have a single value of length and diameter and you would like to know how the beam performs. You would need:\n",
        "\n",
        "*   **Equations for the beam's mass, deflection, and strength**\n",
        "*   **Material properties**: the equations are functions of material properties such as the density and elastic modulus\n",
        "*   **Design load**: how much of a point load is the beam trying to support\n",
        "\n",
        "Given that material, we could plug in the values for the material properties, beam design (length and diameter), and the given load. The mass is a property of the beam's dimensions, and the deflection and stress are properties of the beam's response to the load.\n",
        "\n",
        "## Formulate an optimization problem\n",
        "\n",
        "Given the above, there are a number of different optimization problems that are possible. We'll follow the Deb (2001) example for now.\n",
        "\n",
        "The first set of questions talks about the relationship between the beam's design properties and our problem formulation.\n",
        "\n",
        "*   **Which decision variables will be considered?** length, and diameter\n",
        "*   **What are the upper and lower bounds of the decision variables?** This is required to use multiobjective evolutionary algorithm (MOEA) optimization, because the initial solutions are generated using random sampling and need to come from a known domain.\n",
        "*   **How is the material property handled?** In this problem the material is assumed to be known. In other words, density and the elastic modulus are not considered as decision variables. Similarly the design load is also fixed.\n",
        "\n",
        "The second set of questions cover the aspects of the beam's performance that we care about, coded as objectives and constraints in the optimization problem.\n",
        "\n",
        "*   **Limits for acceptable stress and deflection**: these will be the \"right hand side\" of constraint functions in our problem.\n",
        "*   **Optimization objectives**: We will define two objectives:\n",
        "    *    minimize mass\n",
        "    *    minimize deflection\n",
        "\n",
        "Breaking things up into so many related questions can help us be creative about the problem formulation. In other words, you can think of mass, deflection, and stress as **performance metrics** more generally, which are translated into **objectives** when we care about the absolute magnitude of performance (either minimized or maximized) and/or **constraints** when we only care about whether a particular design is above or below a required threshold.\n",
        "\n",
        "## Set up the code in the format required by Platypus\n",
        "\n",
        "This example is based on [an example in the Platypus documentation](https://platypus.readthedocs.io/en/latest/getting-started.html#defining-constrained-problems) that sets up a constrained problem using an extendable class for the problem we're defining."
      ],
      "metadata": {
        "id": "G5iGZ125Cdzq"
      }
    },
    {
      "cell_type": "code",
      "source": [
        "class CantileverDesign(Problem):\n",
        "  def __init__(self):\n",
        "    super().__init__(2, 2, 2) #two decisions, two objectives, 2 constraints\n",
        "    self.types[:] = [Real(10,50), Real(200,1000)] # d, then l\n",
        "    self.stress_threshold = 300 #MPA\n",
        "    self.deflection_threshold = 5 #mm\n",
        "    self.constraints[:] =\n",
        "     [\"<= \" + str(self.stress_threshold), \"<= \" + str(self.deflection_threshold)]\n",
        "    self.directions[:] = Direction.MINIMIZE #whether each objective is minimized or maximized\n",
        "\n",
        "  def evaluate(self, solution):\n",
        "\n",
        "    # parameters\n",
        "    density = 7800 #kg/m^3\n",
        "    point_load = 1 #kN\n",
        "    elastic_modulus = 207 #GPA\n",
        "\n",
        "    # parse the decision variables\n",
        "    diameter = solution.variables[0]\n",
        "    length = solution.variables[1]\n",
        "\n",
        "    # calculate performance\n",
        "    mass = density*math.pi*pow(diameter, 2)*length/4.0\n",
        "    stress = 32*point_load*length/(math.pi*pow(diameter, 3))\n",
        "    deflection = 64*point_load*pow(diameter, 3)/(3*elastic_modulus*math.pi*pow(diameter, 4))\n",
        "\n",
        "    # assign the performance metrics to either objectives or constraints\n",
        "    solution.objectives[0] = mass\n",
        "    solution.objectives[1] = deflection\n",
        "    solution.constraints[0] = stress\n",
        "    solution.constraints[1] = deflection"
      ],
      "metadata": {
        "id": "KCU6F1j6T-uz"
      },
      "execution_count": null,
      "outputs": []
    },
    {
      "cell_type": "markdown",
      "source": [
        "Below, we optimize the problem using the NSGA-II algorithm, ran for 1000 function evaluations."
      ],
      "metadata": {
        "id": "1foPV1npHhub"
      }
    },
    {
      "cell_type": "code",
      "source": [
        "algorithm = NSGAII(CantileverDesign())\n",
        "algorithm.run(1000)"
      ],
      "metadata": {
        "id": "uRQeuQuKbGzu"
      },
      "execution_count": null,
      "outputs": []
    },
    {
      "cell_type": "markdown",
      "source": [
        "From the resulting solutions that come from the algorithm, we filter them on whether they are non-dominated and whether they are feasible."
      ],
      "metadata": {
        "id": "9JPU0sbHHqUE"
      }
    },
    {
      "cell_type": "code",
      "source": [
        "feasible_solutions = [s for s in algorithm.result if s.feasible]\n",
        "nondominated_solutions = nondominated(algorithm.result)"
      ],
      "metadata": {
        "id": "HXX_036vbTA8"
      },
      "execution_count": null,
      "outputs": []
    },
    {
      "cell_type": "markdown",
      "source": [
        "Plot the objective performance of the nondominated solutions."
      ],
      "metadata": {
        "id": "9Wj1WXrbeSQs"
      }
    },
    {
      "cell_type": "code",
      "source": [
        "# plot the Pareto approximate set; adapted from David's water programming post\n",
        "fig = plt.figure()\n",
        "plt.scatter([s.objectives[0] for s in nondominated_solutions],\n",
        "            [s.objectives[1] for s in nondominated_solutions])\n",
        "plt.xlabel('Mass')\n",
        "plt.ylabel('Deflection')"
      ],
      "metadata": {
        "colab": {
          "base_uri": "https://localhost:8080/",
          "height": 466
        },
        "id": "fRLnQLqbb8ZO",
        "outputId": "3c8a680f-dc28-43ce-805d-77102d9e5bdf"
      },
      "execution_count": null,
      "outputs": [
        {
          "output_type": "execute_result",
          "data": {
            "text/plain": [
              "Text(0, 0.5, 'Deflection')"
            ]
          },
          "metadata": {},
          "execution_count": 23
        },
        {
          "output_type": "display_data",
          "data": {
            "text/plain": [
              "<Figure size 640x480 with 1 Axes>"
            ],
            "image/png": "[encoded data removed]"
          },
          "metadata": {}
        }
      ]
    }
  ]
}